{
 "cells": [
  {
   "cell_type": "code",
   "execution_count": 1,
   "id": "e2d40dff",
   "metadata": {},
   "outputs": [],
   "source": [
    "import numpy as np\n",
    "y_train = np.load('y_train.npy')\n",
    "y_test = np.load('y_test.npy')\n",
    "from scipy.sparse import load_npz\n",
    "X_train = load_npz('X_train.npz')\n",
    "X_test = load_npz('X_test.npz')"
   ]
  },
  {
   "cell_type": "code",
   "execution_count": 2,
   "id": "3e7e01ac",
   "metadata": {},
   "outputs": [],
   "source": [
    "from sklearn.naive_bayes import MultinomialNB\n",
    "mtn = MultinomialNB()\n",
    "mtn.fit(X_train, y_train)\n",
    "y_pred = mtn.predict(X_test)"
   ]
  },
  {
   "cell_type": "code",
   "execution_count": 3,
   "id": "33b176be",
   "metadata": {},
   "outputs": [
    {
     "name": "stdout",
     "output_type": "stream",
     "text": [
      "Accuracy: 0.9036904386307216\n",
      "AUC: 0.5791753028419528\n"
     ]
    }
   ],
   "source": [
    "from sklearn.metrics import accuracy_score, roc_auc_score\n",
    "accuracy = accuracy_score(y_test, y_pred)\n",
    "print(\"Accuracy:\", accuracy)\n",
    "y_pred = mtn.predict(X_test)\n",
    "auc = roc_auc_score(y_test, y_pred, multi_class='ovo')\n",
    "print(\"AUC:\", auc)"
   ]
  },
  {
   "cell_type": "code",
   "execution_count": 4,
   "id": "cb3e529c",
   "metadata": {},
   "outputs": [],
   "source": [
    "import pickle\n",
    "filename = 'Multinomial_model.sav'\n",
    "pickle.dump(mtn, open(filename, 'wb'))"
   ]
  },
  {
   "cell_type": "code",
   "execution_count": null,
   "id": "709e66d6",
   "metadata": {},
   "outputs": [],
   "source": []
  }
 ],
 "metadata": {
  "kernelspec": {
   "display_name": "Python 3 (ipykernel)",
   "language": "python",
   "name": "python3"
  },
  "language_info": {
   "codemirror_mode": {
    "name": "ipython",
    "version": 3
   },
   "file_extension": ".py",
   "mimetype": "text/x-python",
   "name": "python",
   "nbconvert_exporter": "python",
   "pygments_lexer": "ipython3",
   "version": "3.10.9"
  }
 },
 "nbformat": 4,
 "nbformat_minor": 5
}
